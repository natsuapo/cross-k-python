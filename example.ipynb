{
 "cells": [
  {
   "cell_type": "code",
   "execution_count": null,
   "metadata": {
    "collapsed": true
   },
   "outputs": [],
   "source": [
    "import matplotlib.pyplot as plt\n",
    "import seaborn as sns\n",
    "from numpy import mean\n",
    "from scipy.spatial import KDTree\n",
    "import numpy as np\n",
    "import pandas as pd\n",
    "\n",
    "y_true = np.load('/Users/xiatianqi/Downloads/y_true.npy')\n",
    "y_pred = np.load('/Users/xiatianqi/Downloads/y_pred.npy')\n",
    "\n",
    "y_true_one_day = np.moveaxis(y_true[4],-1,0)[0]\n",
    "y_pred_one_day = np.moveaxis(y_pred[4],-1,0)[0]\n",
    "\n",
    "def probalistic_cross_k_function(y_true,y_pred,minkov_degree=1,max_distance=10):\n",
    "    y_true_list = np.stack(np.where(y_true == 1)).T\n",
    "    y_true_kdtree = KDTree(y_true_list)\n",
    "    \n",
    "    y_pred_list = np.stack(np.where(y_pred >= 0)).T\n",
    "    y_pred_kdtree = KDTree(y_pred_list)\n",
    "    \n",
    "    dense = np.mean(y_pred_one_day)\n",
    "    \n",
    "    k_value_list = []\n",
    "    random_list = []\n",
    "    \n",
    "    for i in range(max_distance+1):\n",
    "        total_result = y_true_kdtree.sparse_distance_matrix(y_pred_kdtree,p=minkov_degree,max_distance=i)\n",
    "        y_list = []\n",
    "        y_random_list = []\n",
    "        for j in range(len(y_true_list)):\n",
    "            neighbor_obj = total_result.getrow(j).indices\n",
    "            final_list = y_pred_list[list(neighbor_obj)].T\n",
    "            y_list.append(sum(y_pred_one_day[final_list[0],final_list[1]]))\n",
    "            y_random_list.append(len(neighbor_obj)*dense)\n",
    "        k_value_list.append(mean(y_list) / dense)\n",
    "        random_list.append(mean(y_random_list) / dense)\n",
    "    \n",
    "    return k_value_list,random_list\n",
    "\n",
    "df = pd.DataFrame(probalistic_cross_k_function(y_true_one_day,y_pred_one_day,minkov_degree=1,max_distance=7))\n",
    "\n",
    "df.index = ['kf value','random kf value']\n",
    "df = df.stack().reset_index()\n",
    "\n",
    "df.columns = ['type','distance','kf_value']\n",
    "ax = sns.lineplot(x='distance',y='kf_value',hue='type',data=df)\n",
    "plt.show()"
   ]
  }
 ],
 "metadata": {
  "kernelspec": {
   "display_name": "Python 2",
   "language": "python",
   "name": "python2"
  },
  "language_info": {
   "codemirror_mode": {
    "name": "ipython",
    "version": 2
   },
   "file_extension": ".py",
   "mimetype": "text/x-python",
   "name": "python",
   "nbconvert_exporter": "python",
   "pygments_lexer": "ipython2",
   "version": "2.7.6"
  }
 },
 "nbformat": 4,
 "nbformat_minor": 0
}
